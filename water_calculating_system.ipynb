{
 "cells": [
  {
   "cell_type": "code",
   "execution_count": 25,
   "id": "231eb3e8",
   "metadata": {},
   "outputs": [
    {
     "name": "stdout",
     "output_type": "stream",
     "text": [
      "Enter amount of water in litres: 485.3564\n",
      "the water will fill 970.0\n",
      "0.3564000000000078\n"
     ]
    }
   ],
   "source": [
    "num_water_l = input(\"Enter amount of water in litres: \" )\n",
    "num_water_l = float(num_water_l)\n",
    "litres_l = 0.5\n",
    "remains = num_water_l %litres_l \n",
    "#remains = remains * 0.5\n",
    "\n",
    "number_bottles_ml = num_water_l// litres_l\n",
    "#number_bottles_ml =int(number_bottles_ml)\n",
    "print(\"the water will fill\",number_bottles_ml)\n",
    "print(remains)\n",
    "\n",
    "\n"
   ]
  },
  {
   "cell_type": "code",
   "execution_count": 26,
   "id": "f314c927",
   "metadata": {},
   "outputs": [
    {
     "name": "stdout",
     "output_type": "stream",
     "text": [
      "5.0\n"
     ]
    }
   ],
   "source": [
    "print(10/2)"
   ]
  },
  {
   "cell_type": "code",
   "execution_count": null,
   "id": "c6f2284d",
   "metadata": {},
   "outputs": [],
   "source": []
  }
 ],
 "metadata": {
  "kernelspec": {
   "display_name": "Python 3 (ipykernel)",
   "language": "python",
   "name": "python3"
  },
  "language_info": {
   "codemirror_mode": {
    "name": "ipython",
    "version": 3
   },
   "file_extension": ".py",
   "mimetype": "text/x-python",
   "name": "python",
   "nbconvert_exporter": "python",
   "pygments_lexer": "ipython3",
   "version": "3.11.5"
  }
 },
 "nbformat": 4,
 "nbformat_minor": 5
}
