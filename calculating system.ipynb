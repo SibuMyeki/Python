{
 "cells": [
  {
   "cell_type": "code",
   "execution_count": null,
   "id": "d1780e14",
   "metadata": {},
   "outputs": [
    {
     "name": "stdout",
     "output_type": "stream",
     "text": [
      "Enter the amount of asparagus(kg):\n"
     ]
    }
   ],
   "source": [
    "asparagus_price = 30.54\n",
    "beetroot_price = 1.45\n",
    "broccoli_price = 14.43\n",
    "garlic_price = 35.81\n",
    "potatoes_price = 2.04\n",
    "\n",
    "#to calculate the total price of veggies to be sold you first need to know how many veggies a customer need multiply by price\n",
    "\n",
    "print(\"Enter the amount of asparagus(kg):\")\n",
    "aspa = float(input())\n",
    "print(\"Enter the amount of betroot(kg):\")\n",
    "beet = float(input())\n",
    "print(\"Enter the amount of broccoli(kg):\")\n",
    "broc = float(input())\n",
    "print(\"Enter the amount of garlic(kg):\")\n",
    "garl = float(input())\n",
    "print(\"Enter the amount of potatoes(kg):\")\n",
    "pota = float(input())\n",
    "\n",
    "aspa = aspa * asparagus_price\n",
    "beet = beet * beetroot_price\n",
    "b= (((broc * broccoli_price)*20) /100)#for 100kg of broccoli\n",
    "broc = (broc * broccoli_price)-b\n",
    "garl = garl * garlic_price\n",
    "p = (((pota*potatoes_price)*30) /100)\n",
    "pota=(pota*potatoes_price)-p\n",
    "\n",
    "total = aspa + beet + broc + garl +pota\n",
    "print(\"The amount the store has to pay is R\",total)\n",
    "\n",
    "\n",
    "\n",
    "\n"
   ]
  },
  {
   "cell_type": "code",
   "execution_count": null,
   "id": "acc1542b",
   "metadata": {},
   "outputs": [],
   "source": []
  }
 ],
 "metadata": {
  "kernelspec": {
   "display_name": "Python 3 (ipykernel)",
   "language": "python",
   "name": "python3"
  },
  "language_info": {
   "codemirror_mode": {
    "name": "ipython",
    "version": 3
   },
   "file_extension": ".py",
   "mimetype": "text/x-python",
   "name": "python",
   "nbconvert_exporter": "python",
   "pygments_lexer": "ipython3",
   "version": "3.11.5"
  }
 },
 "nbformat": 4,
 "nbformat_minor": 5
}
